{
 "cells": [
  {
   "cell_type": "code",
   "execution_count": 1,
   "metadata": {
    "scrolled": false
   },
   "outputs": [],
   "source": [
    "import numpy as np\n",
    "import importlib\n",
    "import environments.binomials as bb"
   ]
  },
  {
   "cell_type": "code",
   "execution_count": 2,
   "metadata": {},
   "outputs": [
    {
     "data": {
      "text/plain": [
       "<module 'environments.binomials' from '/mnt/c/Users/dsh233/Documents/git/deepbroebner/environments/binomials.py'>"
      ]
     },
     "execution_count": 2,
     "metadata": {},
     "output_type": "execute_result"
    }
   ],
   "source": [
    "importlib.reload(bb)"
   ]
  },
  {
   "cell_type": "markdown",
   "metadata": {},
   "source": [
    "# Environment"
   ]
  },
  {
   "cell_type": "code",
   "execution_count": 3,
   "metadata": {},
   "outputs": [],
   "source": [
    "num_variables = 3\n",
    "degree = 2\n",
    "size = 5\n",
    "\n",
    "ENV1 = bb.BinomialBuchbergerEnv(degree, size, num_variables)\n",
    "ENV2 = bb.LeadMonomialWrapper(ENV1)"
   ]
  },
  {
   "cell_type": "code",
   "execution_count": 4,
   "metadata": {},
   "outputs": [
    {
     "data": {
      "text/plain": [
       "[1 x^[0 2 0] + 6600 x^[0 0 2],\n",
       " 1 x^[0 2 0] + 19956 x^[1 0 1],\n",
       " 1 x^[1 1 0] + 26153 x^[0 1 1],\n",
       " 1 x^[1 1 0] + 8188 x^[1 0 1],\n",
       " 1 x^[2 0 0] + 25440 x^[1 0 1]]"
      ]
     },
     "execution_count": 4,
     "metadata": {},
     "output_type": "execute_result"
    }
   ],
   "source": [
    "F = [bb.random_binomial(2, 3) for _ in range(5)]\n",
    "F"
   ]
  },
  {
   "cell_type": "code",
   "execution_count": 5,
   "metadata": {},
   "outputs": [
    {
     "name": "stdout",
     "output_type": "stream",
     "text": [
      "S polynomial: 1 x^[1 0 1] + 6600 x^[0 0 2] -->\n",
      "added 1 x^[1 0 1] + 6600 x^[0 0 2]\n",
      "\n",
      "S polynomial: 1 x^[0 2 1] + 6600 x^[1 0 2] -->\n",
      "added 21486 x^[0 0 3] + 0 x^[0 0 0]\n",
      "\n",
      "S polynomial: 1 x^[1 1 1] + 6600 x^[1 0 2] -->\n",
      "added 1 x^[0 1 2] + 0 x^[0 0 0]\n",
      "\n",
      "S polynomial: 1 x^[1 2 1] + 6600 x^[2 0 2] -->\n",
      "zero reduction 0 x^[0 0 0] + 0 x^[0 0 0].\n",
      "\n",
      "S polynomial: 1 x^[0 2 2] + 6600 x^[1 0 3] -->\n",
      "zero reduction 0 x^[0 0 0] + 0 x^[0 0 0].\n",
      "\n",
      "S polynomial: 1 x^[0 0 5] + 0 x^[0 0 0] -->\n",
      "zero reduction 0 x^[0 0 0] + 0 x^[0 0 0].\n",
      "\n",
      "S polynomial: 1 x^[0 0 4] + 0 x^[0 0 0] -->\n",
      "zero reduction 0 x^[0 0 0] + 0 x^[0 0 0].\n",
      "\n",
      "S polynomial: 1 x^[2 0 1] + 5850 x^[0 2 1] -->\n",
      "zero reduction 0 x^[0 0 0] + 0 x^[0 0 0].\n",
      "\n",
      "S polynomial: 1 x^[2 0 1] + 23815 x^[1 1 1] -->\n",
      "zero reduction 0 x^[0 0 0] + 0 x^[0 0 0].\n",
      "\n",
      "S polynomial: 1 x^[3 0 1] + 6563 x^[1 2 1] -->\n",
      "zero reduction 0 x^[0 0 0] + 0 x^[0 0 0].\n",
      "\n",
      "S polynomial: 1 x^[2 0 2] + 25403 x^[0 2 2] -->\n",
      "zero reduction 0 x^[0 0 0] + 0 x^[0 0 0].\n",
      "\n",
      "S polynomial: 1 x^[1 0 4] + 0 x^[0 0 0] -->\n",
      "zero reduction 0 x^[0 0 0] + 0 x^[0 0 0].\n",
      "\n",
      "S polynomial: 1 x^[1 0 3] + 0 x^[0 0 0] -->\n",
      "zero reduction 0 x^[0 0 0] + 0 x^[0 0 0].\n",
      "\n",
      "S polynomial: 1 x^[1 0 1] + 26153 x^[0 1 1] -->\n",
      "added 1 x^[0 1 1] + 25403 x^[0 0 2]\n",
      "\n",
      "S polynomial: 1 x^[0 1 2] + 6600 x^[0 0 3] -->\n",
      "zero reduction 0 x^[0 0 0] + 0 x^[0 0 0].\n",
      "\n",
      "S polynomial: 1 x^[1 0 2] + 6600 x^[0 1 2] -->\n",
      "zero reduction 0 x^[0 0 0] + 0 x^[0 0 0].\n",
      "\n",
      "S polynomial: 713 x^[1 1 1] + 0 x^[0 0 0] -->\n",
      "zero reduction 0 x^[0 0 0] + 0 x^[0 0 0].\n",
      "\n",
      "S polynomial: 19553 x^[0 1 2] + 0 x^[0 0 0] -->\n",
      "zero reduction 0 x^[0 0 0] + 0 x^[0 0 0].\n",
      "\n",
      "S polynomial: 1 x^[0 1 4] + 0 x^[0 0 0] -->\n",
      "zero reduction 0 x^[0 0 0] + 0 x^[0 0 0].\n",
      "\n",
      "S polynomial: 1 x^[0 1 3] + 0 x^[0 0 0] -->\n",
      "zero reduction 0 x^[0 0 0] + 0 x^[0 0 0].\n",
      "\n",
      "S polynomial: 1 x^[1 0 2] + 26153 x^[0 1 2] -->\n",
      "zero reduction 0 x^[0 0 0] + 0 x^[0 0 0].\n",
      "\n",
      "S polynomial: 1 x^[2 0 1] + 6563 x^[1 1 1] -->\n",
      "zero reduction 0 x^[0 0 0] + 0 x^[0 0 0].\n",
      "\n",
      "S polynomial: 1 x^[1 0 2] + 25403 x^[0 1 2] -->\n",
      "zero reduction 0 x^[0 0 0] + 0 x^[0 0 0].\n",
      "\n",
      "S polynomial: 1 x^[1 0 4] + 0 x^[0 0 0] -->\n",
      "zero reduction 0 x^[0 0 0] + 0 x^[0 0 0].\n",
      "\n",
      "S polynomial: 1 x^[1 0 3] + 0 x^[0 0 0] -->\n",
      "zero reduction 0 x^[0 0 0] + 0 x^[0 0 0].\n",
      "\n",
      "S polynomial: 14788 x^[1 0 2] + 0 x^[0 0 0] -->\n",
      "zero reduction 0 x^[0 0 0] + 0 x^[0 0 0].\n",
      "\n",
      "S polynomial: 18840 x^[1 0 2] + 0 x^[0 0 0] -->\n",
      "zero reduction 0 x^[0 0 0] + 0 x^[0 0 0].\n",
      "\n",
      "S polynomial: 1 x^[1 0 4] + 0 x^[0 0 0] -->\n",
      "zero reduction 0 x^[0 0 0] + 0 x^[0 0 0].\n",
      "\n",
      "S polynomial: 1 x^[1 1 3] + 0 x^[0 0 0] -->\n",
      "zero reduction 0 x^[0 0 0] + 0 x^[0 0 0].\n",
      "\n",
      "S polynomial: 1 x^[2 0 2] + 25440 x^[1 1 2] -->\n",
      "zero reduction 0 x^[0 0 0] + 0 x^[0 0 0].\n",
      "\n",
      "S polynomial: 1 x^[0 0 4] + 0 x^[0 0 0] -->\n",
      "zero reduction 0 x^[0 0 0] + 0 x^[0 0 0].\n",
      "\n",
      "S polynomial: 1 x^[0 1 3] + 0 x^[0 0 0] -->\n",
      "zero reduction 0 x^[0 0 0] + 0 x^[0 0 0].\n",
      "\n",
      "S polynomial: 1 x^[1 0 2] + 6600 x^[0 1 2] -->\n",
      "zero reduction 0 x^[0 0 0] + 0 x^[0 0 0].\n",
      "\n",
      "S polynomial: 0 x^[0 0 0] + 0 x^[0 0 0] -->\n",
      "zero reduction 0 x^[0 0 0] + 0 x^[0 0 0].\n",
      "\n",
      "S polynomial: 1 x^[0 0 4] + 0 x^[0 0 0] -->\n",
      "zero reduction 0 x^[0 0 0] + 0 x^[0 0 0].\n",
      "\n",
      "S polynomial: 1 x^[0 0 3] + 0 x^[0 0 0] -->\n",
      "zero reduction 0 x^[0 0 0] + 0 x^[0 0 0].\n",
      "\n"
     ]
    },
    {
     "data": {
      "text/plain": [
       "[1 x^[0 2 0] + 6600 x^[0 0 2],\n",
       " 1 x^[1 1 0] + 17621 x^[0 0 2],\n",
       " 1 x^[2 0 0] + 15741 x^[0 0 2],\n",
       " 1 x^[1 0 1] + 6600 x^[0 0 2],\n",
       " 1 x^[0 0 3] + 0 x^[0 0 0],\n",
       " 1 x^[0 1 1] + 25403 x^[0 0 2]]"
      ]
     },
     "execution_count": 5,
     "metadata": {},
     "output_type": "execute_result"
    }
   ],
   "source": [
    "bb.buchberger(F, verbose=True)"
   ]
  },
  {
   "cell_type": "code",
   "execution_count": 6,
   "metadata": {},
   "outputs": [
    {
     "data": {
      "text/plain": [
       "[1 x^[0 2 0] + 6600 x^[0 0 2],\n",
       " 1 x^[1 1 0] + 17621 x^[0 0 2],\n",
       " 1 x^[2 0 0] + 15741 x^[0 0 2],\n",
       " 1 x^[1 0 1] + 6600 x^[0 0 2],\n",
       " 1 x^[0 0 3] + 0 x^[0 0 0],\n",
       " 1 x^[0 1 1] + 25403 x^[0 0 2]]"
      ]
     },
     "execution_count": 6,
     "metadata": {},
     "output_type": "execute_result"
    }
   ],
   "source": [
    "bb.buchberger(F, verbose=False)"
   ]
  },
  {
   "cell_type": "markdown",
   "metadata": {},
   "source": [
    "# Agents"
   ]
  },
  {
   "cell_type": "code",
   "execution_count": 7,
   "metadata": {},
   "outputs": [],
   "source": [
    "class RandomAgent:\n",
    "\n",
    "    def act(self, state):\n",
    "        return np.random.randint(state.shape[0])"
   ]
  },
  {
   "cell_type": "markdown",
   "metadata": {},
   "source": [
    "# Testing"
   ]
  },
  {
   "cell_type": "code",
   "execution_count": 8,
   "metadata": {},
   "outputs": [],
   "source": [
    "def test(agent, env, episodes):\n",
    "    rewards = np.zeros(episodes)\n",
    "    for i in range(episodes):\n",
    "        state = env.reset()\n",
    "        done = False\n",
    "        while not done:\n",
    "            action = agent.act(state)\n",
    "            state, reward, done, _ = env.step(action)\n",
    "            rewards[i] += reward\n",
    "    return rewards"
   ]
  },
  {
   "cell_type": "code",
   "execution_count": 9,
   "metadata": {},
   "outputs": [
    {
     "data": {
      "text/plain": [
       "(-37.84, 16.4649445793176, -91.0, -15.0)"
      ]
     },
     "execution_count": 9,
     "metadata": {},
     "output_type": "execute_result"
    }
   ],
   "source": [
    "agent = RandomAgent()\n",
    "rewards = test(agent, ENV2, 100)\n",
    "\n",
    "np.mean(rewards), np.std(rewards), np.min(rewards), np.max(rewards)"
   ]
  },
  {
   "cell_type": "markdown",
   "metadata": {},
   "source": [
    "# Speed test"
   ]
  },
  {
   "cell_type": "code",
   "execution_count": 10,
   "metadata": {},
   "outputs": [
    {
     "name": "stdout",
     "output_type": "stream",
     "text": [
      "         573971 function calls (569974 primitive calls) in 2.422 seconds\n",
      "\n",
      "   Ordered by: standard name\n",
      "\n",
      "   ncalls  tottime  percall  cumtime  percall filename:lineno(function)\n",
      "    27979    0.062    0.000    0.062    0.000 :0(abs)\n",
      "    55900    0.047    0.000    0.047    0.000 :0(all)\n",
      "     3239    0.000    0.000    0.000    0.000 :0(append)\n",
      "    11147    0.094    0.000    0.094    0.000 :0(array)\n",
      "     1091    0.047    0.000    0.203    0.000 :0(choice)\n",
      "    67772    0.109    0.000    0.109    0.000 :0(concatenate)\n",
      "    13634    0.016    0.000    0.016    0.000 :0(copyto)\n",
      "     3997    0.000    0.000    0.000    0.000 :0(divmod)\n",
      "     1091    0.000    0.000    0.000    0.000 :0(empty)\n",
      "    13634    0.078    0.000    0.078    0.000 :0(empty_like)\n",
      "        1    0.000    0.000    2.422    2.422 :0(exec)\n",
      "     2182    0.016    0.000    0.016    0.000 :0(from_buffer)\n",
      "     4928    0.000    0.000    0.000    0.000 :0(getattr)\n",
      "     6243    0.000    0.000    0.000    0.000 :0(hasattr)\n",
      "    33053    0.094    0.000    0.094    0.000 :0(isinstance)\n",
      "    34044    0.062    0.000    0.062    0.000 :0(items)\n",
      "     5832    0.000    0.000    0.000    0.000 :0(len)\n",
      "     2182    0.000    0.000    0.000    0.000 :0(pointer)\n",
      "     4837    0.016    0.000    0.016    0.000 :0(randint)\n",
      "    34044    0.031    0.000    0.031    0.000 :0(reduce)\n",
      "     3837    0.031    0.000    0.031    0.000 :0(remove)\n",
      "     3937    0.016    0.000    0.016    0.000 :0(reshape)\n",
      "        1    0.000    0.000    0.000    0.000 :0(setprofile)\n",
      "     1091    0.000    0.000    0.000    0.000 :0(sort)\n",
      "    13635    0.047    0.000    0.047    0.000 :0(zeros)\n",
      "     3837    0.000    0.000    0.016    0.000 <ipython-input-7-6da3b22d01db>:3(act)\n",
      "        1    0.062    0.062    2.422    2.422 <ipython-input-8-acdae7db499a>:1(test)\n",
      "        1    0.000    0.000    2.422    2.422 <string>:1(<module>)\n",
      "     2182    0.000    0.000    0.000    0.000 __init__.py:484(cast)\n",
      "     2182    0.000    0.000    0.000    0.000 _internal.py:257(__init__)\n",
      "     2182    0.000    0.000    0.000    0.000 _internal.py:260(__array_interface__)\n",
      "     2182    0.047    0.000    0.125    0.000 _internal.py:272(_get_void_ptr)\n",
      "     2182    0.000    0.000    0.125    0.000 _internal.py:289(__init__)\n",
      "     2182    0.000    0.000    0.000    0.000 _internal.py:338(data)\n",
      "     8174    0.141    0.000    0.875    0.000 binomials.py:10(grevlex)\n",
      "     7674    0.125    0.000    0.172    0.000 binomials.py:103(reduce_monomial)\n",
      "     3837    0.031    0.000    0.922    0.000 binomials.py:123(reduce)\n",
      "     1091    0.016    0.000    0.219    0.000 binomials.py:184(random_partition)\n",
      "      500    0.031    0.000    0.359    0.001 binomials.py:198(random_binomial)\n",
      "     3837    0.062    0.000    1.641    0.000 binomials.py:219(step)\n",
      "      100    0.000    0.000    0.359    0.004 binomials.py:235(reset)\n",
      "      100    0.000    0.000    0.359    0.004 binomials.py:238(<listcomp>)\n",
      "      100    0.000    0.000    0.000    0.000 binomials.py:242(<listcomp>)\n",
      "7994/3997    0.109    0.000    0.172    0.000 binomials.py:25(euclidean)\n",
      "     3937    0.000    0.000    0.281    0.000 binomials.py:251(monomial_tensor)\n",
      "     3937    0.078    0.000    0.188    0.000 binomials.py:254(<listcomp>)\n",
      "      100    0.000    0.000    0.359    0.004 binomials.py:265(reset)\n",
      "     3837    0.062    0.000    1.984    0.001 binomials.py:269(step)\n",
      "     3997    0.000    0.000    0.172    0.000 binomials.py:43(invert)\n",
      "     8174    0.031    0.000    1.375    0.000 binomials.py:49(__init__)\n",
      "     8174    0.047    0.000    1.344    0.000 binomials.py:67(simplify)\n",
      "     3837    0.047    0.000    0.625    0.000 binomials.py:94(spoly)\n",
      "    29116    0.172    0.000    0.625    0.000 fromnumeric.py:1966(sum)\n",
      "     3837    0.000    0.000    0.031    0.000 fromnumeric.py:2397(amax)\n",
      "     1091    0.016    0.000    0.031    0.000 fromnumeric.py:2664(prod)\n",
      "    34044    0.234    0.000    0.438    0.000 fromnumeric.py:69(_wrapreduction)\n",
      "    34044    0.109    0.000    0.109    0.000 fromnumeric.py:70(<dictcomp>)\n",
      "     6243    0.109    0.000    0.109    0.000 function_base.py:164(flip)\n",
      "     6243    0.000    0.000    0.000    0.000 index_tricks.py:729(__getitem__)\n",
      "    13634    0.109    0.000    0.250    0.000 numeric.py:112(zeros_like)\n",
      "     2182    0.000    0.000    0.062    0.000 numeric.py:469(asarray)\n",
      "     3937    0.000    0.000    0.016    0.000 numeric.py:541(asanyarray)\n",
      "        0    0.000             0.000          profile:0(profiler)\n",
      "        1    0.000    0.000    2.422    2.422 profile:0(test(agent, ENV2, 100))\n",
      "     3937    0.016    0.000    0.078    0.000 shape_base.py:513(expand_dims)\n",
      "\n",
      "\n"
     ]
    }
   ],
   "source": [
    "import profile\n",
    "profile.run('test(agent, ENV2, 100)')"
   ]
  },
  {
   "cell_type": "code",
   "execution_count": 11,
   "metadata": {},
   "outputs": [],
   "source": [
    "import environments.buchberger as bb_old\n",
    "import sympy as sp"
   ]
  },
  {
   "cell_type": "code",
   "execution_count": null,
   "metadata": {},
   "outputs": [],
   "source": [
    "variables = sp.symbols('x y z')\n",
    "domain = sp.FF(32003)\n",
    "order = 'grevlex'\n",
    "degree = 2\n",
    "size = 5\n",
    "\n",
    "ENV3 = bb_old.LeadMonomialWrapper(bb_old.BinomialBuchbergerEnv(degree, size, variables, domain=domain, order=order))"
   ]
  },
  {
   "cell_type": "code",
   "execution_count": null,
   "metadata": {},
   "outputs": [],
   "source": [
    "profile.run('test(agent,ENV3,100)')"
   ]
  }
 ],
 "metadata": {
  "kernelspec": {
   "display_name": "Python 3",
   "language": "python",
   "name": "python3"
  },
  "language_info": {
   "codemirror_mode": {
    "name": "ipython",
    "version": 3
   },
   "file_extension": ".py",
   "mimetype": "text/x-python",
   "name": "python",
   "nbconvert_exporter": "python",
   "pygments_lexer": "ipython3",
   "version": "3.6.7"
  }
 },
 "nbformat": 4,
 "nbformat_minor": 2
}
