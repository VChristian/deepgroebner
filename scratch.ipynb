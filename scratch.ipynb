{
 "cells": [
  {
   "cell_type": "code",
   "execution_count": 1,
   "metadata": {},
   "outputs": [],
   "source": [
    "import matplotlib.pyplot as plt\n",
    "import numpy as np\n",
    "import sympy as sp\n",
    "import tensorflow as tf\n",
    "\n",
    "from agents.networks import ParallelMultilayerPerceptron, CountTensor\n",
    "from environments.binomials import BinomialBuchbergerEnv, LeadMonomialWrapper"
   ]
  },
  {
   "cell_type": "markdown",
   "metadata": {},
   "source": [
    "# Environment"
   ]
  },
  {
   "cell_type": "code",
   "execution_count": 2,
   "metadata": {},
   "outputs": [],
   "source": [
    "variables = sp.symbols('x y z')\n",
    "domain = sp.FF(32003)\n",
    "order = 'grevlex'\n",
    "degree = 7\n",
    "size = 5\n",
    "x, y, z = variables\n",
    "\n",
    "env = LeadMonomialWrapper(BinomialBuchbergerEnv(degree, size, len(variables)))\n",
    "env_full = LeadMonomialWrapper(BinomialBuchbergerEnv(degree, size, len(variables)), k=2)"
   ]
  },
  {
   "cell_type": "markdown",
   "metadata": {},
   "source": [
    "# Agents"
   ]
  },
  {
   "cell_type": "code",
   "execution_count": 3,
   "metadata": {},
   "outputs": [],
   "source": [
    "def discount_rewards(rewards, gamma):\n",
    "    \"\"\"Discount the array of rewards by gamma in-place.\"\"\"\n",
    "    cumulative_reward = 0\n",
    "    for i in reversed(range(len(rewards))):\n",
    "        cumulative_reward = rewards[i] + gamma * cumulative_reward\n",
    "        rewards[i] = cumulative_reward\n",
    "    return rewards\n",
    "\n",
    "\n",
    "class TrajectoryBuffer:\n",
    "    \"\"\"A buffer for storing and computing with trajectories.\"\"\"\n",
    "\n",
    "    def __init__(self, capacity, gamma, lam):\n",
    "        self.capacity = capacity\n",
    "        self.gamma = gamma\n",
    "        self.lam = lam\n",
    "        self.states = np.empty(shape=capacity, dtype=np.object)\n",
    "        self.actions = np.empty(shape=capacity, dtype=np.int16)\n",
    "        self.rewards = np.empty(shape=capacity, dtype=np.float32)\n",
    "        self.values = np.empty(shape=capacity, dtype=np.float32)       \n",
    "        self.start = 0\n",
    "        self.end = 0\n",
    "\n",
    "    def store(self, state, action, reward, value):\n",
    "        \"\"\"Store the information from one state.\"\"\"\n",
    "        if self.end == self.capacity:\n",
    "            return\n",
    "        self.states[self.end] = state\n",
    "        self.actions[self.end] = action\n",
    "        self.rewards[self.end] = reward\n",
    "        self.values[self.end] = value\n",
    "        self.end += 1\n",
    "\n",
    "    def finish(self):\n",
    "        \"\"\"Finish a trajectory and compute discounted rewards and advantages.\"\"\"\n",
    "        values = np.append(self.values[self.start:self.end], 0)\n",
    "        rewards = self.rewards[self.start:self.end]\n",
    "\n",
    "        # values are now GAE values\n",
    "        delta = rewards + self.gamma * values[1:] - values[:-1]\n",
    "        discount_rewards(delta, self.gamma * self.lam)\n",
    "        self.values[self.start:self.end] = delta\n",
    "\n",
    "        # rewards are now discounted rewards\n",
    "        discount_rewards(self.rewards[self.start:self.end], self.gamma)\n",
    "\n",
    "        self.start = self.end\n",
    "    \n",
    "    def get(self):\n",
    "        \"\"\"Return all the finished trajectories with advantages normalized.\"\"\"\n",
    "        final = self.start\n",
    "        self.start, self.end = 0, 0\n",
    "        m = np.mean(self.values[:final])\n",
    "        s = np.std(self.values[:final])\n",
    "        self.values[:final] -= m\n",
    "        self.values[:final] /= s\n",
    "        return self.states[:final], self.actions[:final], self.rewards[:final], self.values[:final]\n",
    "\n",
    "\n",
    "class PGAgent:\n",
    "    \"\"\"A policy gradient agent.\"\"\"\n",
    "\n",
    "    def __init__(self,\n",
    "                 policy_network, value_network,\n",
    "                 policy_learning_rate=0.00025, value_learning_rate=0.001,\n",
    "                 gamma=0.99, lam=0.95,\n",
    "                 value_fits_per_epoch=10,\n",
    "                 capacity=100000):\n",
    "        self.policyModel = self._buildPolicyModel(policy_network, policy_learning_rate)\n",
    "        self.valueModel = self._buildValueModel(value_network, value_learning_rate)\n",
    "        self.gamma = gamma\n",
    "        self.lam = lam\n",
    "        self.value_fits_per_epoch = value_fits_per_epoch\n",
    "        self.buf = TrajectoryBuffer(capacity, gamma, lam)\n",
    "\n",
    "    def act(self, state):\n",
    "        \"\"\"Choose an action for the given state.\"\"\"\n",
    "        probs = self.policyModel.predict(np.expand_dims(state, axis=0))[0]\n",
    "        return np.random.choice(len(probs), p=probs)\n",
    "\n",
    "    def train(self, env, episodes):\n",
    "        \"\"\"Train the agent using policy gradients.\"\"\"\n",
    "        reward_out = np.zeros(episodes)\n",
    "\n",
    "        # generate rollouts and store in buffer\n",
    "        for i in range(episodes):\n",
    "            state = env.reset()\n",
    "            done = False\n",
    "            while not done:\n",
    "                action = self.act(state)\n",
    "                next_state, reward, done, _ = env.step(action)\n",
    "                value = -1 * self.valueModel.predict(np.expand_dims(state, axis=0))  # TODO: move -1 to net\n",
    "                self.buf.store(state, action, reward, value)\n",
    "                reward_out[i] += reward\n",
    "                state = next_state\n",
    "            self.buf.finish()\n",
    "\n",
    "        states, actions, rewards, advantages = self.buf.get()\n",
    "        \n",
    "        # find indices corresponding to each size\n",
    "        batches = {}\n",
    "        for i in range(len(states)):\n",
    "            size = states[i].shape[0]\n",
    "            batches.setdefault(size, []).append(i)\n",
    "\n",
    "        # fit to advantages to perform policy update\n",
    "        for size in batches:\n",
    "            if size == 1:\n",
    "                continue\n",
    "            s = np.stack(states[batches[size]])\n",
    "            adv = np.zeros((len(s), size))\n",
    "            adv[np.arange(len(s)), actions[batches[size]]] = advantages[batches[size]]\n",
    "            self.policyModel.fit(s, adv, verbose=0)\n",
    "            \n",
    "        # fit to discounted rewards to perform value update\n",
    "        for _ in range(self.value_fits_per_epoch):\n",
    "            for size in batches:\n",
    "                s = np.stack(states[batches[size]])\n",
    "                r = np.expand_dims(rewards[batches[size]], axis=1)\n",
    "                self.valueModel.fit(s, r, verbose=0)\n",
    "\n",
    "        return reward_out\n",
    "\n",
    "    def loadPolicyModel(self, filename):\n",
    "        self.policyModel.load_weights(filename)\n",
    "\n",
    "    def savePolicyModel(self, filename):\n",
    "        self.policyModel.save_weights(filename)\n",
    "\n",
    "    def loadValueModel(self, filename):\n",
    "        self.valueModel.load_weights(filename)\n",
    "\n",
    "    def saveValueModel(self, filename):\n",
    "        self.valueModel.save_weights(filename)\n",
    "\n",
    "    def _buildPolicyModel(self, network, learning_rate):\n",
    "        model = tf.keras.models.clone_model(network)\n",
    "        loss = 'categorical_crossentropy'\n",
    "        optimizer = tf.keras.optimizers.Adam(learning_rate)\n",
    "        model.compile(loss=loss, optimizer=optimizer)\n",
    "        return model\n",
    "\n",
    "    def _buildValueModel(self, network, learning_rate):\n",
    "        model = tf.keras.models.clone_model(network)\n",
    "        loss = 'mse'\n",
    "        optimizer = tf.keras.optimizers.Adam(learning_rate)\n",
    "        model.compile(loss=loss, optimizer=optimizer)\n",
    "        return model"
   ]
  },
  {
   "cell_type": "markdown",
   "metadata": {},
   "source": [
    "# Testing"
   ]
  },
  {
   "cell_type": "code",
   "execution_count": 4,
   "metadata": {},
   "outputs": [],
   "source": [
    "def test(agent, env, episodes):\n",
    "    rewards = np.zeros(episodes)\n",
    "    for i in range(episodes):\n",
    "        state = env.reset()\n",
    "        done = False\n",
    "        while not done:\n",
    "            action = agent.act(state)\n",
    "            state, reward, done, _ = env.step(action)\n",
    "            rewards[i] += reward\n",
    "    return rewards"
   ]
  },
  {
   "cell_type": "code",
   "execution_count": 5,
   "metadata": {},
   "outputs": [],
   "source": [
    "network1 = ParallelMultilayerPerceptron(6, [48])\n",
    "network2 = CountTensor((None, 1, 6), 1)\n",
    "agent = PGAgent(network1, network2, policy_learning_rate=0.00001)"
   ]
  },
  {
   "cell_type": "code",
   "execution_count": 6,
   "metadata": {},
   "outputs": [
    {
     "name": "stdout",
     "output_type": "stream",
     "text": [
      "Epoch 50/50 - avg_reward: -169.518"
     ]
    }
   ],
   "source": [
    "epochs = 50\n",
    "rewards = []\n",
    "\n",
    "for i in range(epochs):\n",
    "    r = np.mean(agent.train(env, 1000))\n",
    "    rewards.append(r)\n",
    "    print(\"\\rEpoch {}/{} - avg_reward: {}\".format(i+1, epochs, r), end=\"\")"
   ]
  },
  {
   "cell_type": "code",
   "execution_count": 7,
   "metadata": {},
   "outputs": [
    {
     "data": {
      "text/plain": [
       "[<matplotlib.lines.Line2D at 0xbfc01eb70>]"
      ]
     },
     "execution_count": 7,
     "metadata": {},
     "output_type": "execute_result"
    },
    {
     "data": {
      "image/png": "[encoded data removed]",
      "text/plain": [
       "<Figure size 432x288 with 1 Axes>"
      ]
     },
     "metadata": {
      "needs_background": "light"
     },
     "output_type": "display_data"
    }
   ],
   "source": [
    "plt.plot(rewards)"
   ]
  }
 ],
 "metadata": {
  "kernelspec": {
   "display_name": "Python 3",
   "language": "python",
   "name": "python3"
  },
  "language_info": {
   "codemirror_mode": {
    "name": "ipython",
    "version": 3
   },
   "file_extension": ".py",
   "mimetype": "text/x-python",
   "name": "python",
   "nbconvert_exporter": "python",
   "pygments_lexer": "ipython3",
   "version": "3.6.8"
  }
 },
 "nbformat": 4,
 "nbformat_minor": 2
}
