{
 "cells": [
  {
   "cell_type": "code",
   "execution_count": 1,
   "metadata": {},
   "outputs": [],
   "source": [
    "import numpy as np\n",
    "import sympy as sp\n",
    "import tensorflow as tf\n",
    "import matplotlib.pyplot as plt\n",
    "\n",
    "from environments.buchberger import BinomialBuchbergerEnv, LeadMonomialWrapper\n",
    "from agents.buchberger import RandomAgent, DegreeAgent\n",
    "from agents.networks import ParallelMultilayerPerceptron"
   ]
  },
  {
   "cell_type": "markdown",
   "metadata": {},
   "source": [
    "# Agent"
   ]
  },
  {
   "cell_type": "code",
   "execution_count": 2,
   "metadata": {},
   "outputs": [],
   "source": [
    "def discounted_rewards(rewards, gamma):\n",
    "    out = np.empty(len(rewards))\n",
    "    cumulative_reward = 0\n",
    "    for i in reversed(range(len(rewards))):\n",
    "        cumulative_reward = rewards[i] + gamma * cumulative_reward\n",
    "        out[i] = cumulative_reward\n",
    "    return list(out)\n",
    "\n",
    "\n",
    "class PGAgent:\n",
    "    \"\"\"A policy gradient agent.\"\"\"\n",
    "\n",
    "    def __init__(self, network, learning_rate=0.00025, gamma=0.99):\n",
    "        self.model = self._buildModel(network, learning_rate)\n",
    "        self.gamma = gamma\n",
    "\n",
    "    def act(self, state):\n",
    "        \"\"\"Choose an action (row) for the given state.\"\"\"\n",
    "        probs = self.model.predict(np.expand_dims(state, axis=0))[0]\n",
    "        return np.random.choice(len(probs), p=probs)\n",
    "\n",
    "    def train(self, env, episodes):\n",
    "        \"\"\"Train the agent using policy gradients.\"\"\"\n",
    "        total_states = []\n",
    "        total_actions = []\n",
    "        total_rewards = []\n",
    "\n",
    "        # generate rollouts and discounted rewards\n",
    "        for _ in range(episodes):\n",
    "            state = env.reset()\n",
    "            done = False\n",
    "            states = []\n",
    "            actions = []\n",
    "            rewards = []\n",
    "            while not done:\n",
    "                action = self.act(state)\n",
    "                next_state, reward, done, _ = env.step(action)\n",
    "                states += [state]\n",
    "                actions += [action]\n",
    "                rewards += [reward]\n",
    "                state = next_state\n",
    "            rewards = discounted_rewards(rewards, self.gamma)\n",
    "\n",
    "            total_states += states\n",
    "            total_actions += actions\n",
    "            total_rewards += rewards\n",
    "\n",
    "        for i in range(len(total_states)):\n",
    "            state = np.expand_dims(total_states[i], axis=0)\n",
    "            advantage = np.zeros((1, state.shape[1]))\n",
    "            advantage[0, total_actions[i]] = total_rewards[i]\n",
    "            \n",
    "            self.model.fit(state, advantage, verbose=0)\n",
    "            \n",
    "    def test(self, env, episodes):\n",
    "        \"\"\"Test the agent for given episodes on given environment.\"\"\"\n",
    "        rewards = np.zeros(episodes)\n",
    "        for i in range(episodes):\n",
    "            state = env.reset()\n",
    "            done = False\n",
    "            while not done:\n",
    "                action = self.act(state)\n",
    "                next_state, reward, done, _ = env.step(action)\n",
    "                rewards[i] += reward\n",
    "                state = next_state\n",
    "        return rewards\n",
    "\n",
    "    def save(self, name):\n",
    "        self.model.save_weights(name)\n",
    "\n",
    "    def load(self, name):\n",
    "        self.model.load_weights(name)\n",
    "\n",
    "    def _buildModel(self, network, learning_rate):\n",
    "        model = tf.keras.models.clone_model(network)\n",
    "        loss = 'categorical_crossentropy'\n",
    "        optimizer = tf.keras.optimizers.Adam(learning_rate)\n",
    "        model.compile(loss=loss, optimizer=optimizer)\n",
    "        return model"
   ]
  },
  {
   "cell_type": "markdown",
   "metadata": {},
   "source": [
    "# Testing"
   ]
  },
  {
   "cell_type": "code",
   "execution_count": 3,
   "metadata": {},
   "outputs": [],
   "source": [
    "degree = 2\n",
    "size = 5\n",
    "env = BinomialBuchbergerEnv(degree, size)\n",
    "network = ParallelMultilayerPerceptron(6, [12])"
   ]
  },
  {
   "cell_type": "code",
   "execution_count": 7,
   "metadata": {},
   "outputs": [
    {
     "data": {
      "text/plain": [
       "-33.2396"
      ]
     },
     "execution_count": 7,
     "metadata": {},
     "output_type": "execute_result"
    }
   ],
   "source": [
    "agent = RandomAgent()\n",
    "\n",
    "episodes = 10000\n",
    "random_rewards = np.zeros(episodes)\n",
    "\n",
    "for i in range(episodes):\n",
    "    state = env.reset()\n",
    "    done = False\n",
    "    while not done:\n",
    "        action = agent.act(state)\n",
    "        state, reward, done, _ = env.step(action)\n",
    "        random_rewards[i] += reward\n",
    "        \n",
    "np.mean(random_rewards)"
   ]
  },
  {
   "cell_type": "code",
   "execution_count": 8,
   "metadata": {},
   "outputs": [
    {
     "data": {
      "text/plain": [
       "-21.5776"
      ]
     },
     "execution_count": 8,
     "metadata": {},
     "output_type": "execute_result"
    }
   ],
   "source": [
    "agent = DegreeAgent()\n",
    "\n",
    "episodes = 10000\n",
    "degree_rewards = np.zeros(episodes)\n",
    "\n",
    "for i in range(episodes):\n",
    "    state = env.reset()\n",
    "    done = False\n",
    "    while not done:\n",
    "        action = agent.act(state)\n",
    "        state, reward, done, _ = env.step(action)\n",
    "        degree_rewards[i] += reward\n",
    "        \n",
    "np.mean(degree_rewards)"
   ]
  },
  {
   "cell_type": "code",
   "execution_count": null,
   "metadata": {},
   "outputs": [],
   "source": [
    "env = LeadMonomialWrapper(env)\n",
    "agent = PGAgent(network)\n",
    "\n",
    "epochs = 10000\n",
    "rewards = []\n",
    "for i in range(epochs):\n",
    "    agent.train(env, 100)\n",
    "    r = np.mean(agent.test(env, 100))\n",
    "    rewards.append(r)\n",
    "    print(\"\\rEpoch {} - reward: {}\".format(i, r), end=\"\")"
   ]
  },
  {
   "cell_type": "code",
   "execution_count": 8,
   "metadata": {},
   "outputs": [
    {
     "data": {
      "text/plain": [
       "[<matplotlib.lines.Line2D at 0xb8beb67b8>]"
      ]
     },
     "execution_count": 8,
     "metadata": {},
     "output_type": "execute_result"
    },
    {
     "data": {
      "image/png": "[encoded data removed]",
      "text/plain": [
       "<Figure size 432x288 with 1 Axes>"
      ]
     },
     "metadata": {
      "needs_background": "light"
     },
     "output_type": "display_data"
    }
   ],
   "source": [
    "plt.plot(rewards)"
   ]
  },
  {
   "cell_type": "code",
   "execution_count": null,
   "metadata": {},
   "outputs": [],
   "source": []
  }
 ],
 "metadata": {
  "kernelspec": {
   "display_name": "Python 3",
   "language": "python",
   "name": "python3"
  },
  "language_info": {
   "codemirror_mode": {
    "name": "ipython",
    "version": 3
   },
   "file_extension": ".py",
   "mimetype": "text/x-python",
   "name": "python",
   "nbconvert_exporter": "python",
   "pygments_lexer": "ipython3",
   "version": "3.6.8"
  }
 },
 "nbformat": 4,
 "nbformat_minor": 2
}
