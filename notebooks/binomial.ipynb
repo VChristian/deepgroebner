{
 "cells": [
  {
   "cell_type": "code",
   "execution_count": 1,
   "metadata": {},
   "outputs": [],
   "source": [
    "import sympy as sp\n",
    "import numpy as np"
   ]
  },
  {
   "cell_type": "code",
   "execution_count": 2,
   "metadata": {},
   "outputs": [],
   "source": [
    "from deepgroebner.binomials import BinomialBuchbergerEnv, BinomialLeadMonomialsWrapper, to_binomial, reduce\n",
    "from deepgroebner.buchberger import BuchbergerEnv, LeadMonomialsWrapper\n",
    "from deepgroebner.ideals import RandomBinomialIdealGenerator"
   ]
  },
  {
   "cell_type": "markdown",
   "metadata": {},
   "source": [
    "## Check `reduce`"
   ]
  },
  {
   "cell_type": "code",
   "execution_count": 3,
   "metadata": {},
   "outputs": [],
   "source": [
    "ideal_gen = RandomBinomialIdealGenerator(3, 5, 3)"
   ]
  },
  {
   "cell_type": "code",
   "execution_count": 4,
   "metadata": {},
   "outputs": [],
   "source": [
    "for i in range(1000):\n",
    "    F = next(ideal_gen)\n",
    "    FB = [to_binomial(f) for f in F]\n",
    "    B1 = to_binomial(F[0].rem(F[1:]))\n",
    "    B2, _ = reduce(FB[0], FB[1:])\n",
    "    assert B1 == B2"
   ]
  },
  {
   "cell_type": "markdown",
   "metadata": {},
   "source": [
    "## Check environments"
   ]
  },
  {
   "cell_type": "code",
   "execution_count": 5,
   "metadata": {},
   "outputs": [],
   "source": [
    "ideal_gen = RandomBinomialIdealGenerator(3, 5, 3)"
   ]
  },
  {
   "cell_type": "code",
   "execution_count": 6,
   "metadata": {},
   "outputs": [
    {
     "data": {
      "text/plain": [
       "1018"
      ]
     },
     "execution_count": 6,
     "metadata": {},
     "output_type": "execute_result"
    }
   ],
   "source": [
    "count = 0\n",
    "\n",
    "for i in range(1000):\n",
    "    \n",
    "    env1 = BinomialBuchbergerEnv(ideal_gen)\n",
    "    env1 = BinomialLeadMonomialsWrapper(env1, k=2)\n",
    "    np.random.seed(i)\n",
    "    state1 = env1.reset()\n",
    "\n",
    "    env2 = BuchbergerEnv(ideal_gen)\n",
    "    env2 = LeadMonomialsWrapper(env2, k=2)\n",
    "    np.random.seed(i)\n",
    "    state2 = env2.reset()\n",
    "\n",
    "    done1, done2 = False, False\n",
    "    while not done1 and not done2:\n",
    "        state1, reward1, done1, _ = env1.step(0)\n",
    "        state2, reward2, done2, _ = env2.step(0)\n",
    "        assert np.array_equal(state1, state2)\n",
    "        if not reward1 == reward2:\n",
    "            count += 1\n",
    "        assert done1 == done2\n",
    "\n",
    "count"
   ]
  },
  {
   "cell_type": "markdown",
   "metadata": {},
   "source": [
    "## Compare times"
   ]
  },
  {
   "cell_type": "code",
   "execution_count": 7,
   "metadata": {},
   "outputs": [],
   "source": [
    "ideal_gen = RandomBinomialIdealGenerator(5, 10, 5)\n",
    "seed = 12"
   ]
  },
  {
   "cell_type": "code",
   "execution_count": 8,
   "metadata": {},
   "outputs": [],
   "source": [
    "env = BinomialBuchbergerEnv(ideal_gen)\n",
    "env = BinomialLeadMonomialsWrapper(env, k=2)\n",
    "np.random.seed(seed)"
   ]
  },
  {
   "cell_type": "code",
   "execution_count": 9,
   "metadata": {},
   "outputs": [
    {
     "name": "stdout",
     "output_type": "stream",
     "text": [
      "CPU times: user 7.02 s, sys: 16.3 ms, total: 7.04 s\n",
      "Wall time: 7.03 s\n"
     ]
    },
    {
     "data": {
      "text/plain": [
       "3256"
      ]
     },
     "execution_count": 9,
     "metadata": {},
     "output_type": "execute_result"
    }
   ],
   "source": [
    "%%time\n",
    "\n",
    "steps = 0\n",
    "\n",
    "for i in range(10):\n",
    "    state = env.reset()\n",
    "    done = False\n",
    "    while not done:\n",
    "        action = np.random.randint(state.shape[0])\n",
    "        state, reward, done, info = env.step(action)\n",
    "        steps += 1\n",
    "\n",
    "steps"
   ]
  },
  {
   "cell_type": "code",
   "execution_count": 10,
   "metadata": {},
   "outputs": [],
   "source": [
    "env = BuchbergerEnv(ideal_gen)\n",
    "env = LeadMonomialsWrapper(env, k=2)\n",
    "np.random.seed(seed)"
   ]
  },
  {
   "cell_type": "code",
   "execution_count": 11,
   "metadata": {},
   "outputs": [
    {
     "name": "stdout",
     "output_type": "stream",
     "text": [
      "CPU times: user 3.47 s, sys: 18 ms, total: 3.48 s\n",
      "Wall time: 3.49 s\n"
     ]
    },
    {
     "data": {
      "text/plain": [
       "3256"
      ]
     },
     "execution_count": 11,
     "metadata": {},
     "output_type": "execute_result"
    }
   ],
   "source": [
    "%%time\n",
    "\n",
    "steps = 0\n",
    "\n",
    "for i in range(10):\n",
    "    state = env.reset()\n",
    "    done = False\n",
    "    while not done:\n",
    "        action = np.random.randint(state.shape[0])\n",
    "        state, reward, done, info = env.step(action)\n",
    "        steps += 1\n",
    "\n",
    "steps"
   ]
  },
  {
   "cell_type": "code",
   "execution_count": null,
   "metadata": {},
   "outputs": [],
   "source": []
  }
 ],
 "metadata": {
  "kernelspec": {
   "display_name": "Python 3",
   "language": "python",
   "name": "python3"
  },
  "language_info": {
   "codemirror_mode": {
    "name": "ipython",
    "version": 3
   },
   "file_extension": ".py",
   "mimetype": "text/x-python",
   "name": "python",
   "nbconvert_exporter": "python",
   "pygments_lexer": "ipython3",
   "version": "3.6.9"
  }
 },
 "nbformat": 4,
 "nbformat_minor": 2
}
