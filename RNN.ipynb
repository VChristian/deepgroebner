{
 "cells": [
  {
   "cell_type": "code",
   "execution_count": 1,
   "metadata": {},
   "outputs": [],
   "source": [
    "import numpy as np\n",
    "import tensorflow as tf\n",
    "import matplotlib.pyplot as plt"
   ]
  },
  {
   "cell_type": "markdown",
   "metadata": {},
   "source": [
    "# Simple RNN Cell"
   ]
  },
  {
   "cell_type": "code",
   "execution_count": 2,
   "metadata": {},
   "outputs": [],
   "source": [
    "timesteps = 100\n",
    "input_features = 32\n",
    "output_features = 64\n",
    "\n",
    "inputs = np.random.random((timesteps, input_features))\n",
    "\n",
    "state_t = np.zeros((output_features,))\n",
    "\n",
    "W = np.random.random((output_features, input_features))\n",
    "U = np.random.random((output_features, output_features))\n",
    "b = np.random.random((output_features,))\n",
    "\n",
    "successive_outputs = []\n",
    "for input_t in inputs:\n",
    "    output_t = np.tanh(np.dot(W, input_t) + np.dot(U, state_t) + b)\n",
    "    successive_outputs.append(output_t)\n",
    "    state_t = output_t\n",
    "    \n",
    "final_output_sequence = np.concatenate(successive_outputs, axis=0)"
   ]
  },
  {
   "cell_type": "markdown",
   "metadata": {},
   "source": [
    "# Example Using Keras"
   ]
  },
  {
   "cell_type": "code",
   "execution_count": 3,
   "metadata": {},
   "outputs": [],
   "source": [
    "max_features = 10000\n",
    "maxlen = 500\n",
    "\n",
    "(x_train, y_train), (x_test, y_test) = tf.keras.datasets.imdb.load_data(num_words=max_features)\n",
    "x_train = tf.keras.preprocessing.sequence.pad_sequences(x_train, maxlen=maxlen)\n",
    "x_test = tf.keras.preprocessing.sequence.pad_sequences(x_test, maxlen=maxlen)"
   ]
  },
  {
   "cell_type": "code",
   "execution_count": 4,
   "metadata": {},
   "outputs": [],
   "source": [
    "model = tf.keras.models.Sequential([\n",
    "    tf.keras.layers.Embedding(max_features, 32),\n",
    "    tf.keras.layers.SimpleRNN(32),\n",
    "    tf.keras.layers.Dense(1, activation='sigmoid')\n",
    "])\n",
    "\n",
    "model.compile(optimizer='rmsprop', loss='binary_crossentropy', metrics=['acc'])"
   ]
  },
  {
   "cell_type": "code",
   "execution_count": 5,
   "metadata": {},
   "outputs": [],
   "source": [
    "# history = model.fit(x_train, y_train, epochs=10, batch_size=128, validation_split=0.2)"
   ]
  },
  {
   "cell_type": "code",
   "execution_count": 6,
   "metadata": {},
   "outputs": [],
   "source": [
    "model = tf.keras.models.Sequential([\n",
    "    tf.keras.layers.Embedding(max_features, 32),\n",
    "    tf.keras.layers.LSTM(32),\n",
    "    tf.keras.layers.Dense(1, activation='sigmoid')\n",
    "])\n",
    "\n",
    "model.compile(optimizer='rmsprop', loss='binary_crossentropy', metrics=['acc'])"
   ]
  },
  {
   "cell_type": "code",
   "execution_count": 7,
   "metadata": {},
   "outputs": [],
   "source": [
    "# history = model.fit(x_train, y_train, epochs=10, batch_size=128, validation_split=0.2)"
   ]
  },
  {
   "cell_type": "markdown",
   "metadata": {},
   "source": [
    "# RNN for Value Function"
   ]
  },
  {
   "cell_type": "code",
   "execution_count": 8,
   "metadata": {},
   "outputs": [],
   "source": [
    "from environments.binomials import BinomialBuchbergerEnv, LeadMonomialWrapper"
   ]
  },
  {
   "cell_type": "code",
   "execution_count": 9,
   "metadata": {},
   "outputs": [],
   "source": [
    "degree = 3\n",
    "size = 5\n",
    "variables = 3\n",
    "\n",
    "env = LeadMonomialWrapper(BinomialBuchbergerEnv(degree, size, variables))"
   ]
  },
  {
   "cell_type": "code",
   "execution_count": 10,
   "metadata": {},
   "outputs": [],
   "source": [
    "model = tf.keras.models.Sequential([\n",
    "    tf.keras.layers.LSTM(32, input_shape=(None, 2*variables)),\n",
    "    tf.keras.layers.Dense(1, activation='linear')\n",
    "])\n",
    "\n",
    "model.compile(optimizer='adam', loss='mse')"
   ]
  },
  {
   "cell_type": "code",
   "execution_count": 11,
   "metadata": {},
   "outputs": [],
   "source": [
    "class DegreeAgent:\n",
    "\n",
    "    def __init__(self, random=False):\n",
    "        self.random = random\n",
    "\n",
    "    def act(self, state):\n",
    "        n = state.shape[2]//2  # number of variables\n",
    "        degs = np.sum(np.maximum(state[:, :, :n], state[:, :, n:]), axis=2)\n",
    "        if self.random:\n",
    "            indices = np.where(degs == np.min(degs))[0]\n",
    "            return np.random.choice(indices)\n",
    "        else:\n",
    "            return np.argmin(degs)"
   ]
  },
  {
   "cell_type": "code",
   "execution_count": 12,
   "metadata": {},
   "outputs": [],
   "source": [
    "def discounted_rewards(rewards, gamma):\n",
    "    out = np.empty(len(rewards))\n",
    "    cumulative_reward = 0\n",
    "    for i in reversed(range(len(rewards))):\n",
    "        cumulative_reward = rewards[i] + gamma * cumulative_reward\n",
    "        out[i] = cumulative_reward\n",
    "    return list(out)\n",
    "\n",
    "\n",
    "def train(model, agent, env, episodes, gamma=1.0):\n",
    "    \"\"\"Train the value model on the agent's performance.\"\"\"\n",
    "\n",
    "    total_states = []\n",
    "    total_actions = []\n",
    "    total_rewards = []\n",
    "\n",
    "    # generate rollouts and discounted rewards\n",
    "    for i in range(episodes):\n",
    "        state = env.reset()\n",
    "        done = False\n",
    "        states = []\n",
    "        actions = []\n",
    "        rewards = []\n",
    "        while not done:\n",
    "            action = agent.act(state)\n",
    "            next_state, reward, done, _ = env.step(action)\n",
    "            states.append(state[:,0,:])\n",
    "            actions.append(action)\n",
    "            rewards.append(reward)\n",
    "            state = next_state\n",
    "        rewards = discounted_rewards(rewards, gamma)\n",
    "\n",
    "        total_states += states\n",
    "        total_actions += actions\n",
    "        total_rewards += rewards\n",
    "\n",
    "    # fit to discounted rewards\n",
    "    for i in range(len(total_states)):\n",
    "        state = np.expand_dims(total_states[i], axis=0)\n",
    "        value = np.expand_dims(np.array(total_rewards[i]), axis=0)       \n",
    "        model.fit(state, value, verbose=0)"
   ]
  },
  {
   "cell_type": "code",
   "execution_count": 13,
   "metadata": {},
   "outputs": [
    {
     "name": "stdout",
     "output_type": "stream",
     "text": [
      "CPU times: user 1h 19min 57s, sys: 22min 21s, total: 1h 42min 18s\n",
      "Wall time: 21min 29s\n"
     ]
    }
   ],
   "source": [
    "%time train(model, DegreeAgent(), env, 1000)"
   ]
  },
  {
   "cell_type": "code",
   "execution_count": 14,
   "metadata": {},
   "outputs": [],
   "source": [
    "def train_batched(model, agent, env, episodes, gamma=1.0):\n",
    "    \"\"\"Train the value model on the agent's performance.\"\"\"\n",
    "\n",
    "    total_states = []\n",
    "    total_actions = []\n",
    "    total_rewards = []\n",
    "\n",
    "    # generate rollouts and discounted rewards\n",
    "    for i in range(episodes):\n",
    "        state = env.reset()\n",
    "        done = False\n",
    "        states = []\n",
    "        actions = []\n",
    "        rewards = []\n",
    "        while not done:\n",
    "            action = agent.act(state)\n",
    "            next_state, reward, done, _ = env.step(action)\n",
    "            states.append(state[:,0,:])\n",
    "            actions.append(action)\n",
    "            rewards.append(reward)\n",
    "            state = next_state\n",
    "        rewards = discounted_rewards(rewards, gamma)\n",
    "\n",
    "        total_states += states\n",
    "        total_actions += actions\n",
    "        total_rewards += rewards\n",
    "        \n",
    "    # process into batches\n",
    "    batches = {}\n",
    "    for i in range(len(total_states)):\n",
    "        size = total_states[i].shape[0]\n",
    "        if size not in batches:\n",
    "            batches[size] = [[], []]\n",
    "        batches[size][0].append(total_states[i])\n",
    "        batches[size][1].append(total_rewards[i])\n",
    "\n",
    "    # fit to discounted rewards\n",
    "    for size in batches:\n",
    "        states = np.stack(batches[size][0])\n",
    "        values = np.array(batches[size][1])      \n",
    "        model.fit(states, values, verbose=0)"
   ]
  },
  {
   "cell_type": "code",
   "execution_count": 15,
   "metadata": {},
   "outputs": [
    {
     "name": "stdout",
     "output_type": "stream",
     "text": [
      "CPU times: user 3min 26s, sys: 48 s, total: 4min 14s\n",
      "Wall time: 57.1 s\n"
     ]
    }
   ],
   "source": [
    "%time train_batched(model, DegreeAgent(), env, 1000)"
   ]
  },
  {
   "cell_type": "code",
   "execution_count": null,
   "metadata": {},
   "outputs": [],
   "source": []
  }
 ],
 "metadata": {
  "kernelspec": {
   "display_name": "Python 3",
   "language": "python",
   "name": "python3"
  },
  "language_info": {
   "codemirror_mode": {
    "name": "ipython",
    "version": 3
   },
   "file_extension": ".py",
   "mimetype": "text/x-python",
   "name": "python",
   "nbconvert_exporter": "python",
   "pygments_lexer": "ipython3",
   "version": "3.6.8"
  }
 },
 "nbformat": 4,
 "nbformat_minor": 2
}
